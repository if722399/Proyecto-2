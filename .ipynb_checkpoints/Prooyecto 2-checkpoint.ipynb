{
 "cells": [
  {
   "cell_type": "markdown",
   "metadata": {},
   "source": [
    " # Análisis de precios: descarga, manejo y análisis de datos\n",
    " \n",
    " # 1. Objetivos\n",
    " \n",
    " ## 1.1 Objetivo General \n",
    "Reproducir un escenario de aplicación profesional con la intención de simular e inferir una decisión óptima\n",
    " \n",
    " ## 1.2 Objetivos específicos\n",
    "1.2.1  Importar datos desde Yahoo Finance para poder operar con elllos\n",
    "\n",
    "1.2.2 Calcular los rendimientos diarios y logarítmicos \n",
    "\n",
    "1.2.3 Realizar la proyección de los rendimientos y precios para el año 2019\n",
    "\n",
    "1.2.4 Obtener el precio Umbral\n",
    "\n",
    "1.2.5 Comparar las simulaciones con el precio umbral\n",
    "\n",
    "1.2.6 Analizar los resultados obtenidos y tomar la mejor decisión\n",
    " \n",
    " # Planteamiento \n",
    "Un cliente desea realizar una inversión en la empresa CSCO mediante la compra de acciones, por lo que se decidió realizar un análisis a tráves de la simulación y la proyección de esta misma con la ayuda de las librerias: pandas_data reader y numpy."
   ]
  },
  {
   "cell_type": "markdown",
   "metadata": {},
   "source": [
    "# Simulación\n",
    "\n",
    "Obtuvimos los datos de cierre de la acción CSCO del portal Yahoo Finance, calculamos los rendimientos diarios y logaritmicos para asi poder simular 1000 escenarios para poder proyectar los precios a el año 2019, utilizando la estadística. Para calcular la probabilidad de que los escenarios positivos se cumplan obtuvimos el precio umbral y lo comparamos contra la proyección de precios a 2019.\n",
    "\n",
    "# Conclusión\n",
    "No sería un buena opción realizar la inversión en este momento ya que las probabilidades obtenidas resultaron bajas, es decir sería una inversión riesgosa, aunque por otra parte la gráfica de probabilidades muestra un incremento a largo plazo."
   ]
  },
  {
   "cell_type": "markdown",
   "metadata": {},
   "source": [
    "# Bibliografía\n",
    "https://finance.yahoo.com/"
   ]
  }
 ],
 "metadata": {
  "kernelspec": {
   "display_name": "Python 3",
   "language": "python",
   "name": "python3"
  },
  "language_info": {
   "codemirror_mode": {
    "name": "ipython",
    "version": 3
   },
   "file_extension": ".py",
   "mimetype": "text/x-python",
   "name": "python",
   "nbconvert_exporter": "python",
   "pygments_lexer": "ipython3",
   "version": "3.7.3"
  }
 },
 "nbformat": 4,
 "nbformat_minor": 2
}
